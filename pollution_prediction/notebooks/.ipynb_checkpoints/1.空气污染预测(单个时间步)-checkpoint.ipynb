{
 "cells": [
  {
   "cell_type": "code",
   "execution_count": 1,
   "metadata": {},
   "outputs": [
    {
     "name": "stdout",
     "output_type": "stream",
     "text": [
      "No,year,month,day,hour,pm2.5,DEWP,TEMP,PRES,cbwd,Iws,Is,Ir\r",
      "\r\n",
      "1,2010,1,1,0,NA,-21,-11,1021,NW,1.79,0,0\r",
      "\r\n",
      "2,2010,1,1,1,NA,-21,-12,1020,NW,4.92,0,0\r",
      "\r\n",
      "3,2010,1,1,2,NA,-21,-11,1019,NW,6.71,0,0\r",
      "\r\n",
      "4,2010,1,1,3,NA,-21,-14,1019,NW,9.84,0,0\r",
      "\r\n",
      "5,2010,1,1,4,NA,-20,-12,1018,NW,12.97,0,0\r",
      "\r\n",
      "6,2010,1,1,5,NA,-19,-10,1017,NW,16.1,0,0\r",
      "\r\n",
      "7,2010,1,1,6,NA,-19,-9,1017,NW,19.23,0,0\r",
      "\r\n",
      "8,2010,1,1,7,NA,-19,-9,1017,NW,21.02,0,0\r",
      "\r\n",
      "9,2010,1,1,8,NA,-19,-9,1017,NW,24.15,0,0\r",
      "\r\n"
     ]
    }
   ],
   "source": [
    "!head ../data/raw.csv"
   ]
  },
  {
   "cell_type": "markdown",
   "metadata": {},
   "source": [
    "### 基本数据准备"
   ]
  },
  {
   "cell_type": "code",
   "execution_count": 2,
   "metadata": {},
   "outputs": [],
   "source": [
    "import pandas as pd\n",
    "from datetime import datetime\n",
    "\n",
    "def parse(x):\n",
    "    return datetime.strptime(x,'%Y %m %d %H')\n",
    "\n",
    "dateset = pd.read_csv('../data/raw.csv',parse_dates = [['year','month','day','hour']],index_col = 0,date_parser = parse)\n",
    "dateset.drop('No',axis = 1,inplace = True)"
   ]
  },
  {
   "cell_type": "code",
   "execution_count": 3,
   "metadata": {},
   "outputs": [
    {
     "data": {
      "text/html": [
       "<div>\n",
       "<style scoped>\n",
       "    .dataframe tbody tr th:only-of-type {\n",
       "        vertical-align: middle;\n",
       "    }\n",
       "\n",
       "    .dataframe tbody tr th {\n",
       "        vertical-align: top;\n",
       "    }\n",
       "\n",
       "    .dataframe thead th {\n",
       "        text-align: right;\n",
       "    }\n",
       "</style>\n",
       "<table border=\"1\" class=\"dataframe\">\n",
       "  <thead>\n",
       "    <tr style=\"text-align: right;\">\n",
       "      <th></th>\n",
       "      <th>pm2.5</th>\n",
       "      <th>DEWP</th>\n",
       "      <th>TEMP</th>\n",
       "      <th>PRES</th>\n",
       "      <th>cbwd</th>\n",
       "      <th>Iws</th>\n",
       "      <th>Is</th>\n",
       "      <th>Ir</th>\n",
       "    </tr>\n",
       "    <tr>\n",
       "      <th>year_month_day_hour</th>\n",
       "      <th></th>\n",
       "      <th></th>\n",
       "      <th></th>\n",
       "      <th></th>\n",
       "      <th></th>\n",
       "      <th></th>\n",
       "      <th></th>\n",
       "      <th></th>\n",
       "    </tr>\n",
       "  </thead>\n",
       "  <tbody>\n",
       "    <tr>\n",
       "      <th>2010-01-01 00:00:00</th>\n",
       "      <td>NaN</td>\n",
       "      <td>-21</td>\n",
       "      <td>-11.0</td>\n",
       "      <td>1021.0</td>\n",
       "      <td>NW</td>\n",
       "      <td>1.79</td>\n",
       "      <td>0</td>\n",
       "      <td>0</td>\n",
       "    </tr>\n",
       "    <tr>\n",
       "      <th>2010-01-01 01:00:00</th>\n",
       "      <td>NaN</td>\n",
       "      <td>-21</td>\n",
       "      <td>-12.0</td>\n",
       "      <td>1020.0</td>\n",
       "      <td>NW</td>\n",
       "      <td>4.92</td>\n",
       "      <td>0</td>\n",
       "      <td>0</td>\n",
       "    </tr>\n",
       "    <tr>\n",
       "      <th>2010-01-01 02:00:00</th>\n",
       "      <td>NaN</td>\n",
       "      <td>-21</td>\n",
       "      <td>-11.0</td>\n",
       "      <td>1019.0</td>\n",
       "      <td>NW</td>\n",
       "      <td>6.71</td>\n",
       "      <td>0</td>\n",
       "      <td>0</td>\n",
       "    </tr>\n",
       "    <tr>\n",
       "      <th>2010-01-01 03:00:00</th>\n",
       "      <td>NaN</td>\n",
       "      <td>-21</td>\n",
       "      <td>-14.0</td>\n",
       "      <td>1019.0</td>\n",
       "      <td>NW</td>\n",
       "      <td>9.84</td>\n",
       "      <td>0</td>\n",
       "      <td>0</td>\n",
       "    </tr>\n",
       "    <tr>\n",
       "      <th>2010-01-01 04:00:00</th>\n",
       "      <td>NaN</td>\n",
       "      <td>-20</td>\n",
       "      <td>-12.0</td>\n",
       "      <td>1018.0</td>\n",
       "      <td>NW</td>\n",
       "      <td>12.97</td>\n",
       "      <td>0</td>\n",
       "      <td>0</td>\n",
       "    </tr>\n",
       "  </tbody>\n",
       "</table>\n",
       "</div>"
      ],
      "text/plain": [
       "                     pm2.5  DEWP  TEMP    PRES cbwd    Iws  Is  Ir\n",
       "year_month_day_hour                                               \n",
       "2010-01-01 00:00:00    NaN   -21 -11.0  1021.0   NW   1.79   0   0\n",
       "2010-01-01 01:00:00    NaN   -21 -12.0  1020.0   NW   4.92   0   0\n",
       "2010-01-01 02:00:00    NaN   -21 -11.0  1019.0   NW   6.71   0   0\n",
       "2010-01-01 03:00:00    NaN   -21 -14.0  1019.0   NW   9.84   0   0\n",
       "2010-01-01 04:00:00    NaN   -20 -12.0  1018.0   NW  12.97   0   0"
      ]
     },
     "execution_count": 3,
     "metadata": {},
     "output_type": "execute_result"
    }
   ],
   "source": [
    "dateset.head()"
   ]
  },
  {
   "cell_type": "code",
   "execution_count": 4,
   "metadata": {},
   "outputs": [],
   "source": [
    "#  更改列名\n",
    "dateset.columns = ['pollution','dew','temp','press','wnd_dir','wnd-spd','snow','rain']\n",
    "dateset.index.name = 'date'\n",
    "\n",
    "# 把所有NA值替换成0\n",
    "dateset['pollution'].fillna(0,inplace=True)"
   ]
  },
  {
   "cell_type": "code",
   "execution_count": 5,
   "metadata": {},
   "outputs": [],
   "source": [
    "# 可以看出数据的前24行的pollution都是缺失状态\n",
    "# 丢弃前24小时\n",
    "dateset = dateset[24:]\n",
    "dateset.to_csv('../data/pollution.csv')"
   ]
  },
  {
   "cell_type": "code",
   "execution_count": 6,
   "metadata": {},
   "outputs": [
    {
     "data": {
      "text/html": [
       "<div>\n",
       "<style scoped>\n",
       "    .dataframe tbody tr th:only-of-type {\n",
       "        vertical-align: middle;\n",
       "    }\n",
       "\n",
       "    .dataframe tbody tr th {\n",
       "        vertical-align: top;\n",
       "    }\n",
       "\n",
       "    .dataframe thead th {\n",
       "        text-align: right;\n",
       "    }\n",
       "</style>\n",
       "<table border=\"1\" class=\"dataframe\">\n",
       "  <thead>\n",
       "    <tr style=\"text-align: right;\">\n",
       "      <th></th>\n",
       "      <th>pollution</th>\n",
       "      <th>dew</th>\n",
       "      <th>temp</th>\n",
       "      <th>press</th>\n",
       "      <th>wnd_dir</th>\n",
       "      <th>wnd-spd</th>\n",
       "      <th>snow</th>\n",
       "      <th>rain</th>\n",
       "    </tr>\n",
       "    <tr>\n",
       "      <th>date</th>\n",
       "      <th></th>\n",
       "      <th></th>\n",
       "      <th></th>\n",
       "      <th></th>\n",
       "      <th></th>\n",
       "      <th></th>\n",
       "      <th></th>\n",
       "      <th></th>\n",
       "    </tr>\n",
       "  </thead>\n",
       "  <tbody>\n",
       "    <tr>\n",
       "      <th>2010-01-02 00:00:00</th>\n",
       "      <td>129.0</td>\n",
       "      <td>-16</td>\n",
       "      <td>-4.0</td>\n",
       "      <td>1020.0</td>\n",
       "      <td>SE</td>\n",
       "      <td>1.79</td>\n",
       "      <td>0</td>\n",
       "      <td>0</td>\n",
       "    </tr>\n",
       "    <tr>\n",
       "      <th>2010-01-02 01:00:00</th>\n",
       "      <td>148.0</td>\n",
       "      <td>-15</td>\n",
       "      <td>-4.0</td>\n",
       "      <td>1020.0</td>\n",
       "      <td>SE</td>\n",
       "      <td>2.68</td>\n",
       "      <td>0</td>\n",
       "      <td>0</td>\n",
       "    </tr>\n",
       "    <tr>\n",
       "      <th>2010-01-02 02:00:00</th>\n",
       "      <td>159.0</td>\n",
       "      <td>-11</td>\n",
       "      <td>-5.0</td>\n",
       "      <td>1021.0</td>\n",
       "      <td>SE</td>\n",
       "      <td>3.57</td>\n",
       "      <td>0</td>\n",
       "      <td>0</td>\n",
       "    </tr>\n",
       "    <tr>\n",
       "      <th>2010-01-02 03:00:00</th>\n",
       "      <td>181.0</td>\n",
       "      <td>-7</td>\n",
       "      <td>-5.0</td>\n",
       "      <td>1022.0</td>\n",
       "      <td>SE</td>\n",
       "      <td>5.36</td>\n",
       "      <td>1</td>\n",
       "      <td>0</td>\n",
       "    </tr>\n",
       "    <tr>\n",
       "      <th>2010-01-02 04:00:00</th>\n",
       "      <td>138.0</td>\n",
       "      <td>-7</td>\n",
       "      <td>-5.0</td>\n",
       "      <td>1022.0</td>\n",
       "      <td>SE</td>\n",
       "      <td>6.25</td>\n",
       "      <td>2</td>\n",
       "      <td>0</td>\n",
       "    </tr>\n",
       "  </tbody>\n",
       "</table>\n",
       "</div>"
      ],
      "text/plain": [
       "                     pollution  dew  temp   press wnd_dir  wnd-spd  snow  rain\n",
       "date                                                                          \n",
       "2010-01-02 00:00:00      129.0  -16  -4.0  1020.0      SE     1.79     0     0\n",
       "2010-01-02 01:00:00      148.0  -15  -4.0  1020.0      SE     2.68     0     0\n",
       "2010-01-02 02:00:00      159.0  -11  -5.0  1021.0      SE     3.57     0     0\n",
       "2010-01-02 03:00:00      181.0   -7  -5.0  1022.0      SE     5.36     1     0\n",
       "2010-01-02 04:00:00      138.0   -7  -5.0  1022.0      SE     6.25     2     0"
      ]
     },
     "execution_count": 6,
     "metadata": {},
     "output_type": "execute_result"
    }
   ],
   "source": [
    "dateset.head()"
   ]
  },
  {
   "cell_type": "markdown",
   "metadata": {},
   "source": [
    "### 为每个序列做一个单独的子图绘制，除了wnd_dir"
   ]
  },
  {
   "cell_type": "code",
   "execution_count": 7,
   "metadata": {},
   "outputs": [],
   "source": [
    "import matplotlib.pyplot as plt"
   ]
  },
  {
   "cell_type": "code",
   "execution_count": 8,
   "metadata": {},
   "outputs": [],
   "source": [
    "values = dateset.values"
   ]
  },
  {
   "cell_type": "code",
   "execution_count": 9,
   "metadata": {},
   "outputs": [
    {
     "data": {
      "image/png": "[encoded data removed]",
      "text/plain": [
       "<Figure size 432x288 with 7 Axes>"
      ]
     },
     "metadata": {
      "needs_background": "light"
     },
     "output_type": "display_data"
    }
   ],
   "source": [
    "# 指定要绘制的列\n",
    "groups = [0,1,2,3,5,6,7]\n",
    "plt.figure()\n",
    "i = 1\n",
    "for group in groups:\n",
    "    plt.subplot(len(groups),1,i)\n",
    "    plt.plot(values[:,group])\n",
    "    plt.title(dateset.columns[group],y = 0.5,loc ='right')\n",
    "    i += 1\n",
    "plt.show()"
   ]
  },
  {
   "cell_type": "markdown",
   "metadata": {},
   "source": [
    "### 多元LSTM预测模型"
   ]
  },
  {
   "cell_type": "code",
   "execution_count": 10,
   "metadata": {},
   "outputs": [
    {
     "data": {
      "text/plain": [
       "8"
      ]
     },
     "execution_count": 10,
     "metadata": {},
     "output_type": "execute_result"
    }
   ],
   "source": [
    "values.shape[1]"
   ]
  },
  {
   "cell_type": "code",
   "execution_count": 11,
   "metadata": {},
   "outputs": [
    {
     "data": {
      "text/plain": [
       "['pollution', 'dew', 'temp', 'press', 'wnd_dir', 'wnd-spd', 'snow', 'rain']"
      ]
     },
     "execution_count": 11,
     "metadata": {},
     "output_type": "execute_result"
    }
   ],
   "source": [
    "list(dateset.columns)"
   ]
  },
  {
   "cell_type": "code",
   "execution_count": 12,
   "metadata": {},
   "outputs": [],
   "source": [
    "'''\n",
    "    思想：\n",
    "        根据过去一小时的天气情况和污染情况来预测下一小时的污染情况\n",
    "'''\n",
    "\n",
    "\n",
    "# 将序列转换为监督学习问题\n",
    "def series2supervised(data,columns,n_in = 1,n_out = 1,dropnan=True):\n",
    "    '''\n",
    "        data:默认是一个二维数组\n",
    "        columns:data 对应的列名列表\n",
    "        n_in:input_sequence(t-n_in,...,t-1)\n",
    "        n_out:forecast_sequence(t,..., t+ n_out)\n",
    "        dropnan:删除数据中含有nan的行\n",
    "    '''\n",
    "    df = pd.DataFrame(data)\n",
    "    # cols 存储的是数据，names存储的是列名\n",
    "    cols,names = list(),list()\n",
    "    \n",
    "    # input sequence (t-n,...,t-1)\n",
    "    for i in range(n_in,0,-1):\n",
    "        cols.append(df.shift(i))\n",
    "        names += [((col + '(t-%d)'%i)) for col in columns]\n",
    "    \n",
    "    # forecast sequeces(t,t+1,...,t+n_out)\n",
    "    for i in range(0,n_out):\n",
    "        cols.append(df.shift(-i))\n",
    "        if i == 0:\n",
    "            names += [(col + '(t)') for col in columns]\n",
    "        else:\n",
    "            names += [((col + '(t+%d)'%i)) for col in columns]\n",
    "            \n",
    "    # put it together\n",
    "    agg = pd.concat(cols,axis = 1)\n",
    "    agg.columns = names\n",
    "    \n",
    "    # drop rows with NaN values\n",
    "    if dropnan:\n",
    "        agg.dropna(inplace=True)\n",
    "    return agg\n",
    "        "
   ]
  },
  {
   "cell_type": "code",
   "execution_count": 13,
   "metadata": {},
   "outputs": [],
   "source": [
    "from sklearn.preprocessing import MinMaxScaler\n",
    "from sklearn.preprocessing import LabelEncoder\n",
    "\n",
    "values = dateset.values\n",
    "columns = dateset.columns\n",
    "\n",
    "# 整数编码\n",
    "encoder = LabelEncoder()\n",
    "values[:,4] = encoder.fit_transform(values[:,4])\n",
    "\n",
    "# 确保所有数据是浮动的\n",
    "values = values.astype('float32')\n",
    "\n",
    "# 归一化特征\n",
    "scalser = MinMaxScaler(feature_range = (0,1))\n",
    "scaled = scalser.fit_transform(values)\n",
    "\n",
    "# 构建成监督学习问题\n",
    "reframed = series2supervised(scaled,columns,1,1)"
   ]
  },
  {
   "cell_type": "code",
   "execution_count": 14,
   "metadata": {},
   "outputs": [
    {
     "data": {
      "text/html": [
       "<div>\n",
       "<style scoped>\n",
       "    .dataframe tbody tr th:only-of-type {\n",
       "        vertical-align: middle;\n",
       "    }\n",
       "\n",
       "    .dataframe tbody tr th {\n",
       "        vertical-align: top;\n",
       "    }\n",
       "\n",
       "    .dataframe thead th {\n",
       "        text-align: right;\n",
       "    }\n",
       "</style>\n",
       "<table border=\"1\" class=\"dataframe\">\n",
       "  <thead>\n",
       "    <tr style=\"text-align: right;\">\n",
       "      <th></th>\n",
       "      <th>pollution(t-1)</th>\n",
       "      <th>dew(t-1)</th>\n",
       "      <th>temp(t-1)</th>\n",
       "      <th>press(t-1)</th>\n",
       "      <th>wnd_dir(t-1)</th>\n",
       "      <th>wnd-spd(t-1)</th>\n",
       "      <th>snow(t-1)</th>\n",
       "      <th>rain(t-1)</th>\n",
       "      <th>pollution(t)</th>\n",
       "      <th>dew(t)</th>\n",
       "      <th>temp(t)</th>\n",
       "      <th>press(t)</th>\n",
       "      <th>wnd_dir(t)</th>\n",
       "      <th>wnd-spd(t)</th>\n",
       "      <th>snow(t)</th>\n",
       "      <th>rain(t)</th>\n",
       "    </tr>\n",
       "  </thead>\n",
       "  <tbody>\n",
       "    <tr>\n",
       "      <th>1</th>\n",
       "      <td>0.129779</td>\n",
       "      <td>0.352941</td>\n",
       "      <td>0.245902</td>\n",
       "      <td>0.527273</td>\n",
       "      <td>0.666667</td>\n",
       "      <td>0.002290</td>\n",
       "      <td>0.000000</td>\n",
       "      <td>0.0</td>\n",
       "      <td>0.148893</td>\n",
       "      <td>0.367647</td>\n",
       "      <td>0.245902</td>\n",
       "      <td>0.527273</td>\n",
       "      <td>0.666667</td>\n",
       "      <td>0.003811</td>\n",
       "      <td>0.000000</td>\n",
       "      <td>0.0</td>\n",
       "    </tr>\n",
       "    <tr>\n",
       "      <th>2</th>\n",
       "      <td>0.148893</td>\n",
       "      <td>0.367647</td>\n",
       "      <td>0.245902</td>\n",
       "      <td>0.527273</td>\n",
       "      <td>0.666667</td>\n",
       "      <td>0.003811</td>\n",
       "      <td>0.000000</td>\n",
       "      <td>0.0</td>\n",
       "      <td>0.159960</td>\n",
       "      <td>0.426471</td>\n",
       "      <td>0.229508</td>\n",
       "      <td>0.545454</td>\n",
       "      <td>0.666667</td>\n",
       "      <td>0.005332</td>\n",
       "      <td>0.000000</td>\n",
       "      <td>0.0</td>\n",
       "    </tr>\n",
       "    <tr>\n",
       "      <th>3</th>\n",
       "      <td>0.159960</td>\n",
       "      <td>0.426471</td>\n",
       "      <td>0.229508</td>\n",
       "      <td>0.545454</td>\n",
       "      <td>0.666667</td>\n",
       "      <td>0.005332</td>\n",
       "      <td>0.000000</td>\n",
       "      <td>0.0</td>\n",
       "      <td>0.182093</td>\n",
       "      <td>0.485294</td>\n",
       "      <td>0.229508</td>\n",
       "      <td>0.563637</td>\n",
       "      <td>0.666667</td>\n",
       "      <td>0.008391</td>\n",
       "      <td>0.037037</td>\n",
       "      <td>0.0</td>\n",
       "    </tr>\n",
       "    <tr>\n",
       "      <th>4</th>\n",
       "      <td>0.182093</td>\n",
       "      <td>0.485294</td>\n",
       "      <td>0.229508</td>\n",
       "      <td>0.563637</td>\n",
       "      <td>0.666667</td>\n",
       "      <td>0.008391</td>\n",
       "      <td>0.037037</td>\n",
       "      <td>0.0</td>\n",
       "      <td>0.138833</td>\n",
       "      <td>0.485294</td>\n",
       "      <td>0.229508</td>\n",
       "      <td>0.563637</td>\n",
       "      <td>0.666667</td>\n",
       "      <td>0.009912</td>\n",
       "      <td>0.074074</td>\n",
       "      <td>0.0</td>\n",
       "    </tr>\n",
       "    <tr>\n",
       "      <th>5</th>\n",
       "      <td>0.138833</td>\n",
       "      <td>0.485294</td>\n",
       "      <td>0.229508</td>\n",
       "      <td>0.563637</td>\n",
       "      <td>0.666667</td>\n",
       "      <td>0.009912</td>\n",
       "      <td>0.074074</td>\n",
       "      <td>0.0</td>\n",
       "      <td>0.109658</td>\n",
       "      <td>0.485294</td>\n",
       "      <td>0.213115</td>\n",
       "      <td>0.563637</td>\n",
       "      <td>0.666667</td>\n",
       "      <td>0.011433</td>\n",
       "      <td>0.111111</td>\n",
       "      <td>0.0</td>\n",
       "    </tr>\n",
       "  </tbody>\n",
       "</table>\n",
       "</div>"
      ],
      "text/plain": [
       "   pollution(t-1)  dew(t-1)  temp(t-1)  press(t-1)  wnd_dir(t-1)  \\\n",
       "1        0.129779  0.352941   0.245902    0.527273      0.666667   \n",
       "2        0.148893  0.367647   0.245902    0.527273      0.666667   \n",
       "3        0.159960  0.426471   0.229508    0.545454      0.666667   \n",
       "4        0.182093  0.485294   0.229508    0.563637      0.666667   \n",
       "5        0.138833  0.485294   0.229508    0.563637      0.666667   \n",
       "\n",
       "   wnd-spd(t-1)  snow(t-1)  rain(t-1)  pollution(t)    dew(t)   temp(t)  \\\n",
       "1      0.002290   0.000000        0.0      0.148893  0.367647  0.245902   \n",
       "2      0.003811   0.000000        0.0      0.159960  0.426471  0.229508   \n",
       "3      0.005332   0.000000        0.0      0.182093  0.485294  0.229508   \n",
       "4      0.008391   0.037037        0.0      0.138833  0.485294  0.229508   \n",
       "5      0.009912   0.074074        0.0      0.109658  0.485294  0.213115   \n",
       "\n",
       "   press(t)  wnd_dir(t)  wnd-spd(t)   snow(t)  rain(t)  \n",
       "1  0.527273    0.666667    0.003811  0.000000      0.0  \n",
       "2  0.545454    0.666667    0.005332  0.000000      0.0  \n",
       "3  0.563637    0.666667    0.008391  0.037037      0.0  \n",
       "4  0.563637    0.666667    0.009912  0.074074      0.0  \n",
       "5  0.563637    0.666667    0.011433  0.111111      0.0  "
      ]
     },
     "execution_count": 14,
     "metadata": {},
     "output_type": "execute_result"
    }
   ],
   "source": [
    "reframed.head()"
   ]
  },
  {
   "cell_type": "code",
   "execution_count": 15,
   "metadata": {},
   "outputs": [],
   "source": [
    "# 丢弃不想预测的列\n",
    "reframed.drop(reframed.columns[[9,10,11,12,13,14,15]],axis = 1,inplace=True)"
   ]
  },
  {
   "cell_type": "code",
   "execution_count": 16,
   "metadata": {},
   "outputs": [
    {
     "data": {
      "text/html": [
       "<div>\n",
       "<style scoped>\n",
       "    .dataframe tbody tr th:only-of-type {\n",
       "        vertical-align: middle;\n",
       "    }\n",
       "\n",
       "    .dataframe tbody tr th {\n",
       "        vertical-align: top;\n",
       "    }\n",
       "\n",
       "    .dataframe thead th {\n",
       "        text-align: right;\n",
       "    }\n",
       "</style>\n",
       "<table border=\"1\" class=\"dataframe\">\n",
       "  <thead>\n",
       "    <tr style=\"text-align: right;\">\n",
       "      <th></th>\n",
       "      <th>pollution(t-1)</th>\n",
       "      <th>dew(t-1)</th>\n",
       "      <th>temp(t-1)</th>\n",
       "      <th>press(t-1)</th>\n",
       "      <th>wnd_dir(t-1)</th>\n",
       "      <th>wnd-spd(t-1)</th>\n",
       "      <th>snow(t-1)</th>\n",
       "      <th>rain(t-1)</th>\n",
       "      <th>pollution(t)</th>\n",
       "    </tr>\n",
       "  </thead>\n",
       "  <tbody>\n",
       "    <tr>\n",
       "      <th>1</th>\n",
       "      <td>0.129779</td>\n",
       "      <td>0.352941</td>\n",
       "      <td>0.245902</td>\n",
       "      <td>0.527273</td>\n",
       "      <td>0.666667</td>\n",
       "      <td>0.002290</td>\n",
       "      <td>0.000000</td>\n",
       "      <td>0.0</td>\n",
       "      <td>0.148893</td>\n",
       "    </tr>\n",
       "    <tr>\n",
       "      <th>2</th>\n",
       "      <td>0.148893</td>\n",
       "      <td>0.367647</td>\n",
       "      <td>0.245902</td>\n",
       "      <td>0.527273</td>\n",
       "      <td>0.666667</td>\n",
       "      <td>0.003811</td>\n",
       "      <td>0.000000</td>\n",
       "      <td>0.0</td>\n",
       "      <td>0.159960</td>\n",
       "    </tr>\n",
       "    <tr>\n",
       "      <th>3</th>\n",
       "      <td>0.159960</td>\n",
       "      <td>0.426471</td>\n",
       "      <td>0.229508</td>\n",
       "      <td>0.545454</td>\n",
       "      <td>0.666667</td>\n",
       "      <td>0.005332</td>\n",
       "      <td>0.000000</td>\n",
       "      <td>0.0</td>\n",
       "      <td>0.182093</td>\n",
       "    </tr>\n",
       "    <tr>\n",
       "      <th>4</th>\n",
       "      <td>0.182093</td>\n",
       "      <td>0.485294</td>\n",
       "      <td>0.229508</td>\n",
       "      <td>0.563637</td>\n",
       "      <td>0.666667</td>\n",
       "      <td>0.008391</td>\n",
       "      <td>0.037037</td>\n",
       "      <td>0.0</td>\n",
       "      <td>0.138833</td>\n",
       "    </tr>\n",
       "    <tr>\n",
       "      <th>5</th>\n",
       "      <td>0.138833</td>\n",
       "      <td>0.485294</td>\n",
       "      <td>0.229508</td>\n",
       "      <td>0.563637</td>\n",
       "      <td>0.666667</td>\n",
       "      <td>0.009912</td>\n",
       "      <td>0.074074</td>\n",
       "      <td>0.0</td>\n",
       "      <td>0.109658</td>\n",
       "    </tr>\n",
       "  </tbody>\n",
       "</table>\n",
       "</div>"
      ],
      "text/plain": [
       "   pollution(t-1)  dew(t-1)  temp(t-1)  press(t-1)  wnd_dir(t-1)  \\\n",
       "1        0.129779  0.352941   0.245902    0.527273      0.666667   \n",
       "2        0.148893  0.367647   0.245902    0.527273      0.666667   \n",
       "3        0.159960  0.426471   0.229508    0.545454      0.666667   \n",
       "4        0.182093  0.485294   0.229508    0.563637      0.666667   \n",
       "5        0.138833  0.485294   0.229508    0.563637      0.666667   \n",
       "\n",
       "   wnd-spd(t-1)  snow(t-1)  rain(t-1)  pollution(t)  \n",
       "1      0.002290   0.000000        0.0      0.148893  \n",
       "2      0.003811   0.000000        0.0      0.159960  \n",
       "3      0.005332   0.000000        0.0      0.182093  \n",
       "4      0.008391   0.037037        0.0      0.138833  \n",
       "5      0.009912   0.074074        0.0      0.109658  "
      ]
     },
     "execution_count": 16,
     "metadata": {},
     "output_type": "execute_result"
    }
   ],
   "source": [
    "reframed.head()"
   ]
  },
  {
   "cell_type": "code",
   "execution_count": 17,
   "metadata": {},
   "outputs": [],
   "source": [
    "reframed.to_csv('../data/reframed.csv',index=False)"
   ]
  },
  {
   "cell_type": "code",
   "execution_count": 18,
   "metadata": {},
   "outputs": [
    {
     "data": {
      "text/plain": [
       "43799"
      ]
     },
     "execution_count": 18,
     "metadata": {},
     "output_type": "execute_result"
    }
   ],
   "source": [
    "len(reframed)"
   ]
  },
  {
   "cell_type": "markdown",
   "metadata": {},
   "source": [
    "### 定义和拟合模型"
   ]
  },
  {
   "cell_type": "code",
   "execution_count": 19,
   "metadata": {},
   "outputs": [
    {
     "name": "stdout",
     "output_type": "stream",
     "text": [
      "(8760, 1, 8) (8760,) (35039, 1, 8) (35039,)\n"
     ]
    }
   ],
   "source": [
    "'''\n",
    "    将数据划分为训练集和测试集，为了加速模型训练，将第一年的数据训练，在剩下的四年数据进行评估\n",
    "    输入X重塑为LSTM预期的3D格式[sample,step,feature]\n",
    "'''\n",
    "values = reframed.values\n",
    "n_train_hours = 365 * 24\n",
    "train = values[:n_train_hours,:]\n",
    "test = values[n_train_hours:,:]\n",
    "\n",
    "# 将数据划分为输入和输出\n",
    "train_X,train_y = train[:,:-1],train[:,-1]\n",
    "test_X,test_y = test[:,:-1],test[:,-1]\n",
    "\n",
    "# 把输入重塑为3D格式[sample,step,feature]\n",
    "train_X = train_X.reshape((train_X.shape[0],1,train_X.shape[1]))\n",
    "test_X = test_X.reshape((test_X.shape[0],1,test_X.shape[1]))\n",
    "print(train_X.shape,train_y.shape,test_X.shape,test_y.shape)"
   ]
  },
  {
   "cell_type": "markdown",
   "metadata": {},
   "source": [
    "### 设计网络 "
   ]
  },
  {
   "cell_type": "code",
   "execution_count": 20,
   "metadata": {},
   "outputs": [
    {
     "name": "stderr",
     "output_type": "stream",
     "text": [
      "Using TensorFlow backend.\n"
     ]
    }
   ],
   "source": [
    "from sklearn.metrics import mean_squared_error\n",
    "from keras.models import Sequential\n",
    "from keras.layers import Dense\n",
    "from keras.layers import LSTM"
   ]
  },
  {
   "cell_type": "code",
   "execution_count": 21,
   "metadata": {},
   "outputs": [
    {
     "name": "stdout",
     "output_type": "stream",
     "text": [
      "Train on 8760 samples, validate on 35039 samples\n",
      "Epoch 1/50\n",
      " - 3s - loss: 0.0536 - val_loss: 0.0489\n",
      "Epoch 2/50\n",
      " - 1s - loss: 0.0329 - val_loss: 0.0438\n",
      "Epoch 3/50\n",
      " - 1s - loss: 0.0195 - val_loss: 0.0392\n",
      "Epoch 4/50\n",
      " - 1s - loss: 0.0161 - val_loss: 0.0231\n",
      "Epoch 5/50\n",
      " - 1s - loss: 0.0150 - val_loss: 0.0173\n",
      "Epoch 6/50\n",
      " - 1s - loss: 0.0148 - val_loss: 0.0159\n",
      "Epoch 7/50\n",
      " - 1s - loss: 0.0146 - val_loss: 0.0158\n",
      "Epoch 8/50\n",
      " - 1s - loss: 0.0146 - val_loss: 0.0154\n",
      "Epoch 9/50\n",
      " - 1s - loss: 0.0148 - val_loss: 0.0160\n",
      "Epoch 10/50\n",
      " - 1s - loss: 0.0147 - val_loss: 0.0157\n",
      "Epoch 11/50\n",
      " - 1s - loss: 0.0146 - val_loss: 0.0149\n",
      "Epoch 12/50\n",
      " - 1s - loss: 0.0146 - val_loss: 0.0143\n",
      "Epoch 13/50\n",
      " - 1s - loss: 0.0146 - val_loss: 0.0140\n",
      "Epoch 14/50\n",
      " - 1s - loss: 0.0146 - val_loss: 0.0140\n",
      "Epoch 15/50\n",
      " - 1s - loss: 0.0146 - val_loss: 0.0137\n",
      "Epoch 16/50\n",
      " - 1s - loss: 0.0143 - val_loss: 0.0137\n",
      "Epoch 17/50\n",
      " - 1s - loss: 0.0147 - val_loss: 0.0144\n",
      "Epoch 18/50\n",
      " - 1s - loss: 0.0145 - val_loss: 0.0146\n",
      "Epoch 19/50\n",
      " - 1s - loss: 0.0147 - val_loss: 0.0142\n",
      "Epoch 20/50\n",
      " - 1s - loss: 0.0143 - val_loss: 0.0141\n",
      "Epoch 21/50\n",
      " - 1s - loss: 0.0144 - val_loss: 0.0141\n",
      "Epoch 22/50\n",
      " - 1s - loss: 0.0146 - val_loss: 0.0138\n",
      "Epoch 23/50\n",
      " - 1s - loss: 0.0145 - val_loss: 0.0137\n",
      "Epoch 24/50\n",
      " - 1s - loss: 0.0144 - val_loss: 0.0142\n",
      "Epoch 25/50\n",
      " - 1s - loss: 0.0145 - val_loss: 0.0140\n",
      "Epoch 26/50\n",
      " - 1s - loss: 0.0144 - val_loss: 0.0140\n",
      "Epoch 27/50\n",
      " - 1s - loss: 0.0145 - val_loss: 0.0137\n",
      "Epoch 28/50\n",
      " - 1s - loss: 0.0142 - val_loss: 0.0135\n",
      "Epoch 29/50\n",
      " - 1s - loss: 0.0144 - val_loss: 0.0135\n",
      "Epoch 30/50\n",
      " - 1s - loss: 0.0145 - val_loss: 0.0136\n",
      "Epoch 31/50\n",
      " - 1s - loss: 0.0142 - val_loss: 0.0135\n",
      "Epoch 32/50\n",
      " - 1s - loss: 0.0145 - val_loss: 0.0138\n",
      "Epoch 33/50\n",
      " - 1s - loss: 0.0145 - val_loss: 0.0138\n",
      "Epoch 34/50\n",
      " - 1s - loss: 0.0143 - val_loss: 0.0135\n",
      "Epoch 35/50\n",
      " - 1s - loss: 0.0145 - val_loss: 0.0136\n",
      "Epoch 36/50\n",
      " - 1s - loss: 0.0144 - val_loss: 0.0136\n",
      "Epoch 37/50\n",
      " - 1s - loss: 0.0145 - val_loss: 0.0136\n",
      "Epoch 38/50\n",
      " - 1s - loss: 0.0142 - val_loss: 0.0135\n",
      "Epoch 39/50\n",
      " - 1s - loss: 0.0142 - val_loss: 0.0137\n",
      "Epoch 40/50\n",
      " - 1s - loss: 0.0143 - val_loss: 0.0136\n",
      "Epoch 41/50\n",
      " - 1s - loss: 0.0143 - val_loss: 0.0135\n",
      "Epoch 42/50\n",
      " - 1s - loss: 0.0145 - val_loss: 0.0137\n",
      "Epoch 43/50\n",
      " - 1s - loss: 0.0145 - val_loss: 0.0135\n",
      "Epoch 44/50\n",
      " - 1s - loss: 0.0144 - val_loss: 0.0137\n",
      "Epoch 45/50\n",
      " - 1s - loss: 0.0145 - val_loss: 0.0137\n",
      "Epoch 46/50\n",
      " - 1s - loss: 0.0141 - val_loss: 0.0136\n",
      "Epoch 47/50\n",
      " - 1s - loss: 0.0145 - val_loss: 0.0136\n",
      "Epoch 48/50\n",
      " - 1s - loss: 0.0145 - val_loss: 0.0134\n",
      "Epoch 49/50\n",
      " - 1s - loss: 0.0142 - val_loss: 0.0135\n",
      "Epoch 50/50\n",
      " - 1s - loss: 0.0142 - val_loss: 0.0136\n"
     ]
    },
    {
     "data": {
      "image/png": "[encoded data removed]",
      "text/plain": [
       "<Figure size 432x288 with 1 Axes>"
      ]
     },
     "metadata": {
      "needs_background": "light"
     },
     "output_type": "display_data"
    }
   ],
   "source": [
    "# 设计网络\n",
    "model = Sequential()\n",
    "model.add(LSTM(50,input_shape = (train_X.shape[1],train_X.shape[2])))\n",
    "model.add(Dense(1))\n",
    "model.compile(loss = 'mae',optimizer = 'adam')\n",
    "\n",
    "# 拟合网络\n",
    "history = model.fit(train_X,train_y,epochs = 50,batch_size = 72,validation_data = (test_X,test_y),\\\n",
    "                   verbose = 2,shuffle=False)\n",
    "\n",
    "# 绘制历史数据\n",
    "plt.plot(history.history['loss'],label = 'train')\n",
    "plt.plot(history.history['val_loss'],label = 'test')\n",
    "plt.legend()\n",
    "plt.show()"
   ]
  },
  {
   "cell_type": "code",
   "execution_count": null,
   "metadata": {},
   "outputs": [],
   "source": []
  }
 ],
 "metadata": {
  "kernelspec": {
   "display_name": "Python 3",
   "language": "python",
   "name": "python3"
  },
  "language_info": {
   "codemirror_mode": {
    "name": "ipython",
    "version": 3
   },
   "file_extension": ".py",
   "mimetype": "text/x-python",
   "name": "python",
   "nbconvert_exporter": "python",
   "pygments_lexer": "ipython3",
   "version": "3.6.8"
  }
 },
 "nbformat": 4,
 "nbformat_minor": 2
}
